{
  "cells": [
    {
      "cell_type": "code",
      "execution_count": null,
      "metadata": {
        "id": "Qm62JyD_jprm"
      },
      "outputs": [],
      "source": [
        "import pandas as pd\n",
        "import pickle as pkl\n",
        "import numpy as np\n",
        "import xgboost as xgb\n",
        "import matplotlib.pyplot as plt\n",
        "from sklearn.preprocessing import StandardScaler\n",
        "from sklearn.metrics import mean_squared_error\n",
        "from sklearn.model_selection import train_test_split, cross_val_score, GridSearchCV, RepeatedStratifiedKFold"
      ]
    },
    {
      "cell_type": "markdown",
      "metadata": {
        "id": "MRnuemaLsVTf"
      },
      "source": [
        "### Obtain Datasets"
      ]
    },
    {
      "cell_type": "code",
      "execution_count": null,
      "metadata": {
        "colab": {
          "base_uri": "https://localhost:8080/"
        },
        "id": "YtjkeI_Vjv3q",
        "outputId": "435be185-2cd6-4170-99ac-22d89b985ff1"
      },
      "outputs": [
        {
          "output_type": "stream",
          "name": "stdout",
          "text": [
            "Mounted at /content/drive\n",
            "/content/drive/My Drive/IS4242/notebooks/data\n"
          ]
        }
      ],
      "source": [
        "import os\n",
        "from google.colab import drive\n",
        "drive.mount('/content/drive') # Added shortcut to drive\n",
        "%cd \"/content/drive/My Drive/IS4242/notebooks/data\""
      ]
    },
    {
      "cell_type": "code",
      "execution_count": null,
      "metadata": {
        "id": "2MnQVcF-kIOF"
      },
      "outputs": [],
      "source": [
        "X_train = pd.read_csv('X_train.csv')\n",
        "X_test = pd.read_csv('X_test.csv')\n",
        "y_train = pd.read_csv('y_train.csv')\n",
        "y_test = pd.read_csv('y_test.csv')\n",
        "\n",
        "X_train = X_train.drop(columns=['Unnamed: 0'])\n",
        "X_test = X_test.drop(columns=['Unnamed: 0'])\n",
        "y_train = y_train.drop(columns=['Unnamed: 0'])\n",
        "y_test = y_test.drop(columns=['Unnamed: 0'])"
      ]
    },
    {
      "cell_type": "markdown",
      "metadata": {
        "id": "ab_w6qAgskSD"
      },
      "source": [
        "### Transform Datasets"
      ]
    },
    {
      "cell_type": "code",
      "execution_count": null,
      "metadata": {
        "id": "9koawNqpkiqf",
        "outputId": "5c39bb46-1e96-4e49-b2bc-bb700015f9c4"
      },
      "outputs": [
        {
          "name": "stderr",
          "output_type": "stream",
          "text": [
            "C:\\Users\\admin\\anaconda3\\lib\\site-packages\\sklearn\\base.py:329: UserWarning: Trying to unpickle estimator StandardScaler from version 1.2.2 when using version 1.0.2. This might lead to breaking code or invalid results. Use at your own risk. For more info please refer to:\n",
            "https://scikit-learn.org/stable/modules/model_persistence.html#security-maintainability-limitations\n",
            "  warnings.warn(\n",
            "C:\\Users\\admin\\anaconda3\\lib\\site-packages\\sklearn\\base.py:329: UserWarning: Trying to unpickle estimator SelectKBest from version 1.2.2 when using version 1.0.2. This might lead to breaking code or invalid results. Use at your own risk. For more info please refer to:\n",
            "https://scikit-learn.org/stable/modules/model_persistence.html#security-maintainability-limitations\n",
            "  warnings.warn(\n"
          ]
        }
      ],
      "source": [
        "with open('scaler.pkl', 'rb') as f:\n",
        "    scaler = pkl.load(f)\n",
        "\n",
        "with open('selectkbest_f_regression.pkl', 'rb') as f:\n",
        "    selectkbest_f_regression = pkl.load(f)\n",
        "\n",
        "with open('selectkbest_mutual_info_regression.pkl', 'rb') as f:\n",
        "    selectkbest_mutual_info_regression = pkl.load(f)"
      ]
    },
    {
      "cell_type": "code",
      "execution_count": null,
      "metadata": {
        "id": "iwDCT2A5kpg2"
      },
      "outputs": [],
      "source": [
        "# Scale\n",
        "X_train_scaled_arr = scaler.transform(X_train)\n",
        "X_test_scaled_arr = scaler.transform(X_test)\n",
        "\n",
        "# SelectKBest\n",
        "X_train_f_reg_arr = selectkbest_f_regression.transform(X_train_scaled_arr)\n",
        "X_test_f_reg_arr = selectkbest_f_regression.transform(X_test_scaled_arr)\n",
        "\n",
        "# SelectKBest\n",
        "X_train_mi_reg_arr = selectkbest_mutual_info_regression.transform(X_train_scaled_arr)\n",
        "X_test_mi_reg_arr = selectkbest_mutual_info_regression.transform(X_test_scaled_arr)"
      ]
    },
    {
      "cell_type": "code",
      "execution_count": null,
      "metadata": {
        "colab": {
          "base_uri": "https://localhost:8080/",
          "height": 299
        },
        "id": "6mm8Y05D1qoT",
        "outputId": "d4389cbc-ee20-4eb6-a231-6b8d91e4f0ce"
      },
      "outputs": [
        {
          "data": {
            "text/html": [
              "<div>\n",
              "<style scoped>\n",
              "    .dataframe tbody tr th:only-of-type {\n",
              "        vertical-align: middle;\n",
              "    }\n",
              "\n",
              "    .dataframe tbody tr th {\n",
              "        vertical-align: top;\n",
              "    }\n",
              "\n",
              "    .dataframe thead th {\n",
              "        text-align: right;\n",
              "    }\n",
              "</style>\n",
              "<table border=\"1\" class=\"dataframe\">\n",
              "  <thead>\n",
              "    <tr style=\"text-align: right;\">\n",
              "      <th></th>\n",
              "      <th>crime_rate_ranking</th>\n",
              "      <th>area</th>\n",
              "      <th>contractMonth</th>\n",
              "      <th>distance_from_nearest_stop</th>\n",
              "      <th>nearest_mrt_walking_time</th>\n",
              "      <th>nearest_stop_num</th>\n",
              "      <th>nearest_taxi_stand_walking_time</th>\n",
              "      <th>ave_level</th>\n",
              "      <th>contractYear</th>\n",
              "      <th>rating</th>\n",
              "      <th>...</th>\n",
              "      <th>district_1</th>\n",
              "      <th>district_2</th>\n",
              "      <th>district_3</th>\n",
              "      <th>district_4</th>\n",
              "      <th>district_5</th>\n",
              "      <th>district_6</th>\n",
              "      <th>district_7</th>\n",
              "      <th>tenure_cat_1</th>\n",
              "      <th>tenure_cat_2</th>\n",
              "      <th>tenure_cat_3</th>\n",
              "    </tr>\n",
              "  </thead>\n",
              "  <tbody>\n",
              "    <tr>\n",
              "      <th>0</th>\n",
              "      <td>-0.890239</td>\n",
              "      <td>-0.159886</td>\n",
              "      <td>-0.153247</td>\n",
              "      <td>0.084609</td>\n",
              "      <td>6.038920</td>\n",
              "      <td>0.430349</td>\n",
              "      <td>7.308957</td>\n",
              "      <td>-0.199105</td>\n",
              "      <td>0.593800</td>\n",
              "      <td>-0.655810</td>\n",
              "      <td>...</td>\n",
              "      <td>-0.231434</td>\n",
              "      <td>-0.228893</td>\n",
              "      <td>-0.595014</td>\n",
              "      <td>-0.29857</td>\n",
              "      <td>1.097438</td>\n",
              "      <td>-0.172511</td>\n",
              "      <td>-0.281689</td>\n",
              "      <td>0.348065</td>\n",
              "      <td>-0.126143</td>\n",
              "      <td>-0.319063</td>\n",
              "    </tr>\n",
              "    <tr>\n",
              "      <th>1</th>\n",
              "      <td>0.860055</td>\n",
              "      <td>-0.114023</td>\n",
              "      <td>-1.029213</td>\n",
              "      <td>-0.504859</td>\n",
              "      <td>-0.004002</td>\n",
              "      <td>-1.262743</td>\n",
              "      <td>0.000661</td>\n",
              "      <td>-0.621856</td>\n",
              "      <td>0.593800</td>\n",
              "      <td>-0.655810</td>\n",
              "      <td>...</td>\n",
              "      <td>-0.231434</td>\n",
              "      <td>-0.228893</td>\n",
              "      <td>-0.595014</td>\n",
              "      <td>-0.29857</td>\n",
              "      <td>-0.911213</td>\n",
              "      <td>-0.172511</td>\n",
              "      <td>3.550012</td>\n",
              "      <td>0.348065</td>\n",
              "      <td>-0.126143</td>\n",
              "      <td>-0.319063</td>\n",
              "    </tr>\n",
              "    <tr>\n",
              "      <th>2</th>\n",
              "      <td>-0.890239</td>\n",
              "      <td>-0.048505</td>\n",
              "      <td>-1.613191</td>\n",
              "      <td>0.084609</td>\n",
              "      <td>-0.004002</td>\n",
              "      <td>0.430349</td>\n",
              "      <td>0.000661</td>\n",
              "      <td>0.646398</td>\n",
              "      <td>0.593800</td>\n",
              "      <td>-0.655810</td>\n",
              "      <td>...</td>\n",
              "      <td>-0.231434</td>\n",
              "      <td>-0.228893</td>\n",
              "      <td>-0.595014</td>\n",
              "      <td>-0.29857</td>\n",
              "      <td>1.097438</td>\n",
              "      <td>-0.172511</td>\n",
              "      <td>-0.281689</td>\n",
              "      <td>0.348065</td>\n",
              "      <td>-0.126143</td>\n",
              "      <td>-0.319063</td>\n",
              "    </tr>\n",
              "    <tr>\n",
              "      <th>3</th>\n",
              "      <td>-1.765386</td>\n",
              "      <td>0.128393</td>\n",
              "      <td>-0.445236</td>\n",
              "      <td>0.040729</td>\n",
              "      <td>-0.004002</td>\n",
              "      <td>-1.053621</td>\n",
              "      <td>-2.880344</td>\n",
              "      <td>1.069150</td>\n",
              "      <td>-1.640994</td>\n",
              "      <td>-0.655810</td>\n",
              "      <td>...</td>\n",
              "      <td>4.320894</td>\n",
              "      <td>-0.228893</td>\n",
              "      <td>-0.595014</td>\n",
              "      <td>-0.29857</td>\n",
              "      <td>-0.911213</td>\n",
              "      <td>-0.172511</td>\n",
              "      <td>-0.281689</td>\n",
              "      <td>0.348065</td>\n",
              "      <td>-0.126143</td>\n",
              "      <td>-0.319063</td>\n",
              "    </tr>\n",
              "    <tr>\n",
              "      <th>4</th>\n",
              "      <td>-0.671452</td>\n",
              "      <td>-0.055057</td>\n",
              "      <td>-0.737225</td>\n",
              "      <td>-0.013628</td>\n",
              "      <td>-1.439647</td>\n",
              "      <td>-0.382335</td>\n",
              "      <td>0.000661</td>\n",
              "      <td>-0.199105</td>\n",
              "      <td>1.338731</td>\n",
              "      <td>2.186827</td>\n",
              "      <td>...</td>\n",
              "      <td>-0.231434</td>\n",
              "      <td>-0.228893</td>\n",
              "      <td>1.680633</td>\n",
              "      <td>-0.29857</td>\n",
              "      <td>-0.911213</td>\n",
              "      <td>-0.172511</td>\n",
              "      <td>-0.281689</td>\n",
              "      <td>0.348065</td>\n",
              "      <td>-0.126143</td>\n",
              "      <td>-0.319063</td>\n",
              "    </tr>\n",
              "  </tbody>\n",
              "</table>\n",
              "<p>5 rows × 74 columns</p>\n",
              "</div>"
            ],
            "text/plain": [
              "   crime_rate_ranking      area  contractMonth  distance_from_nearest_stop  \\\n",
              "0           -0.890239 -0.159886      -0.153247                    0.084609   \n",
              "1            0.860055 -0.114023      -1.029213                   -0.504859   \n",
              "2           -0.890239 -0.048505      -1.613191                    0.084609   \n",
              "3           -1.765386  0.128393      -0.445236                    0.040729   \n",
              "4           -0.671452 -0.055057      -0.737225                   -0.013628   \n",
              "\n",
              "   nearest_mrt_walking_time  nearest_stop_num  \\\n",
              "0                  6.038920          0.430349   \n",
              "1                 -0.004002         -1.262743   \n",
              "2                 -0.004002          0.430349   \n",
              "3                 -0.004002         -1.053621   \n",
              "4                 -1.439647         -0.382335   \n",
              "\n",
              "   nearest_taxi_stand_walking_time  ave_level  contractYear    rating  ...  \\\n",
              "0                         7.308957  -0.199105      0.593800 -0.655810  ...   \n",
              "1                         0.000661  -0.621856      0.593800 -0.655810  ...   \n",
              "2                         0.000661   0.646398      0.593800 -0.655810  ...   \n",
              "3                        -2.880344   1.069150     -1.640994 -0.655810  ...   \n",
              "4                         0.000661  -0.199105      1.338731  2.186827  ...   \n",
              "\n",
              "   district_1  district_2  district_3  district_4  district_5  district_6  \\\n",
              "0   -0.231434   -0.228893   -0.595014    -0.29857    1.097438   -0.172511   \n",
              "1   -0.231434   -0.228893   -0.595014    -0.29857   -0.911213   -0.172511   \n",
              "2   -0.231434   -0.228893   -0.595014    -0.29857    1.097438   -0.172511   \n",
              "3    4.320894   -0.228893   -0.595014    -0.29857   -0.911213   -0.172511   \n",
              "4   -0.231434   -0.228893    1.680633    -0.29857   -0.911213   -0.172511   \n",
              "\n",
              "   district_7  tenure_cat_1  tenure_cat_2  tenure_cat_3  \n",
              "0   -0.281689      0.348065     -0.126143     -0.319063  \n",
              "1    3.550012      0.348065     -0.126143     -0.319063  \n",
              "2   -0.281689      0.348065     -0.126143     -0.319063  \n",
              "3   -0.281689      0.348065     -0.126143     -0.319063  \n",
              "4   -0.281689      0.348065     -0.126143     -0.319063  \n",
              "\n",
              "[5 rows x 74 columns]"
            ]
          },
          "execution_count": 6,
          "metadata": {},
          "output_type": "execute_result"
        }
      ],
      "source": [
        "# Transform from NumPy array to Pandas DataFrame\n",
        "columns_scaled = ['crime_rate_ranking', 'area', 'contractMonth', 'distance_from_nearest_stop', 'nearest_mrt_walking_time', 'nearest_stop_num', 'nearest_taxi_stand_walking_time', 'ave_level',\n",
        "                  'contractYear', 'rating', 'marketSegment_CCR', 'marketSegment_OCR', 'marketSegment_RCR', 'propertyType_Apartment', 'propertyType_Condominium', 'propertyType_Detached',\n",
        "                  'propertyType_Semi-detached', 'propertyType_Strata Detached', 'propertyType_Strata Semi-detached', 'propertyType_Strata Terrace', 'propertyType_Terrace', 'typeOfArea_Land',\n",
        "                  'typeOfArea_Strata', 'nearest_mrt_BENCOOLEN MRT STATION (DT21)', 'nearest_mrt_BUGIS MRT STATION (DT14)', 'nearest_mrt_BUONA VISTA MRT STATION (CC22)', 'nearest_mrt_BUONA VISTA MRT STATION (EW21)',\n",
        "                  'nearest_mrt_CHINATOWN MRT STATION (NE4)', 'nearest_mrt_CITY HALL MRT STATION (EW13 / NS25)', 'nearest_mrt_CLARKE QUAY MRT STATION (NE5)', 'nearest_mrt_CLEMENTI MRT STATION (EW23)',\n",
        "                  'nearest_mrt_COMMONWEALTH MRT STATION (EW20)', 'nearest_mrt_DOWNTOWN MRT STATION (DT17)', 'nearest_mrt_ESPLANADE MRT STATION (CC3)', 'nearest_mrt_FORT CANNING MRT STATION (DT20)',\n",
        "                  'nearest_mrt_GREAT WORLD MRT STATION (TE15)', 'nearest_mrt_HARBOURFRONT MRT STATION (NE1 / CC29)', 'nearest_mrt_HAVELOCK MRT STATION (TE16)', 'nearest_mrt_HAW PAR VILLA MRT STATION (CC25)',\n",
        "                  'nearest_mrt_KENT RIDGE MRT STATION (CC24)', 'nearest_mrt_KOVAN MRT STATION (NE13)', 'nearest_mrt_LABRADOR PARK MRT STATION (CC27)', 'nearest_mrt_LAVENDER MRT STATION (EW11)',\n",
        "                  'nearest_mrt_LITTLE INDIA MRT STATION (NE7)', 'nearest_mrt_MARINA BAY MRT STATION (NS27)', 'nearest_mrt_MARINA BAY MRT STATION (TE20)', 'nearest_mrt_MARINA SOUTH PIER MRT STATION (NS28)',\n",
        "                  'nearest_mrt_MAXWELL MRT STATION (TE18)', 'nearest_mrt_NICOLL HIGHWAY MRT STATION (CC5)', 'nearest_mrt_ONE-NORTH MRT STATION (CC23)', 'nearest_mrt_OUTRAM PARK MRT STATION (EW16)',\n",
        "                  'nearest_mrt_OUTRAM PARK MRT STATION (NE3)', 'nearest_mrt_PASIR PANJANG MRT STATION (CC26)', 'nearest_mrt_QUEENSTOWN MRT STATION (EW19)', 'nearest_mrt_REDHILL MRT STATION (EW18)',\n",
        "                  'nearest_mrt_ROCHOR MRT STATION (DT13)', 'nearest_mrt_SHENTON WAY MRT STATION (TE19)', 'nearest_mrt_TANJONG PAGAR MRT STATION (EW15)', 'nearest_mrt_TELOK AYER MRT STATION (DT18)',\n",
        "                  'nearest_mrt_TELOK BLANGAH MRT STATION (CC28)', 'nearest_mrt_TIONG BAHRU MRT STATION (EW17)', 'typeOfSale_1', 'typeOfSale_2', 'typeOfSale_3', 'district_1', 'district_2',\n",
        "                  'district_3', 'district_4', 'district_5', 'district_6', 'district_7', 'tenure_cat_1', 'tenure_cat_2', 'tenure_cat_3']\n",
        "X_train_scaled = pd.DataFrame(X_train_scaled_arr, columns=columns_scaled)\n",
        "X_test_scaled = pd.DataFrame(X_test_scaled_arr, columns=columns_scaled)\n",
        "X_train_scaled.head()"
      ]
    },
    {
      "cell_type": "code",
      "execution_count": null,
      "metadata": {
        "colab": {
          "base_uri": "https://localhost:8080/",
          "height": 334
        },
        "id": "gLUZ9iMQ_Lyp",
        "outputId": "f55bb65a-9cc9-42d5-cf2f-bc667b3b68f2"
      },
      "outputs": [
        {
          "data": {
            "text/html": [
              "<div>\n",
              "<style scoped>\n",
              "    .dataframe tbody tr th:only-of-type {\n",
              "        vertical-align: middle;\n",
              "    }\n",
              "\n",
              "    .dataframe tbody tr th {\n",
              "        vertical-align: top;\n",
              "    }\n",
              "\n",
              "    .dataframe thead th {\n",
              "        text-align: right;\n",
              "    }\n",
              "</style>\n",
              "<table border=\"1\" class=\"dataframe\">\n",
              "  <thead>\n",
              "    <tr style=\"text-align: right;\">\n",
              "      <th></th>\n",
              "      <th>crime_rate_ranking</th>\n",
              "      <th>area</th>\n",
              "      <th>distance_from_nearest_stop</th>\n",
              "      <th>rating</th>\n",
              "      <th>marketSegment_CCR</th>\n",
              "      <th>marketSegment_OCR</th>\n",
              "      <th>propertyType_Apartment</th>\n",
              "      <th>propertyType_Detached</th>\n",
              "      <th>typeOfArea_Land</th>\n",
              "      <th>typeOfArea_Strata</th>\n",
              "      <th>...</th>\n",
              "      <th>nearest_mrt_CLEMENTI MRT STATION (EW23)</th>\n",
              "      <th>nearest_mrt_ESPLANADE MRT STATION (CC3)</th>\n",
              "      <th>nearest_mrt_HARBOURFRONT MRT STATION (NE1 / CC29)</th>\n",
              "      <th>nearest_mrt_LITTLE INDIA MRT STATION (NE7)</th>\n",
              "      <th>nearest_mrt_MARINA BAY MRT STATION (TE20)</th>\n",
              "      <th>nearest_mrt_MAXWELL MRT STATION (TE18)</th>\n",
              "      <th>typeOfSale_1</th>\n",
              "      <th>typeOfSale_3</th>\n",
              "      <th>district_4</th>\n",
              "      <th>district_5</th>\n",
              "    </tr>\n",
              "  </thead>\n",
              "  <tbody>\n",
              "    <tr>\n",
              "      <th>0</th>\n",
              "      <td>-0.890239</td>\n",
              "      <td>-0.159886</td>\n",
              "      <td>0.084609</td>\n",
              "      <td>-0.655810</td>\n",
              "      <td>-0.434214</td>\n",
              "      <td>-0.631498</td>\n",
              "      <td>0.607697</td>\n",
              "      <td>-0.069442</td>\n",
              "      <td>-0.12506</td>\n",
              "      <td>0.12506</td>\n",
              "      <td>...</td>\n",
              "      <td>-0.618851</td>\n",
              "      <td>-0.064269</td>\n",
              "      <td>-0.197375</td>\n",
              "      <td>-0.007262</td>\n",
              "      <td>-0.052942</td>\n",
              "      <td>-0.024092</td>\n",
              "      <td>0.765148</td>\n",
              "      <td>-0.738253</td>\n",
              "      <td>-0.29857</td>\n",
              "      <td>1.097438</td>\n",
              "    </tr>\n",
              "    <tr>\n",
              "      <th>1</th>\n",
              "      <td>0.860055</td>\n",
              "      <td>-0.114023</td>\n",
              "      <td>-0.504859</td>\n",
              "      <td>-0.655810</td>\n",
              "      <td>2.303010</td>\n",
              "      <td>-0.631498</td>\n",
              "      <td>0.607697</td>\n",
              "      <td>-0.069442</td>\n",
              "      <td>-0.12506</td>\n",
              "      <td>0.12506</td>\n",
              "      <td>...</td>\n",
              "      <td>-0.618851</td>\n",
              "      <td>-0.064269</td>\n",
              "      <td>-0.197375</td>\n",
              "      <td>-0.007262</td>\n",
              "      <td>-0.052942</td>\n",
              "      <td>-0.024092</td>\n",
              "      <td>0.765148</td>\n",
              "      <td>-0.738253</td>\n",
              "      <td>-0.29857</td>\n",
              "      <td>-0.911213</td>\n",
              "    </tr>\n",
              "    <tr>\n",
              "      <th>2</th>\n",
              "      <td>-0.890239</td>\n",
              "      <td>-0.048505</td>\n",
              "      <td>0.084609</td>\n",
              "      <td>-0.655810</td>\n",
              "      <td>-0.434214</td>\n",
              "      <td>-0.631498</td>\n",
              "      <td>0.607697</td>\n",
              "      <td>-0.069442</td>\n",
              "      <td>-0.12506</td>\n",
              "      <td>0.12506</td>\n",
              "      <td>...</td>\n",
              "      <td>-0.618851</td>\n",
              "      <td>-0.064269</td>\n",
              "      <td>-0.197375</td>\n",
              "      <td>-0.007262</td>\n",
              "      <td>-0.052942</td>\n",
              "      <td>-0.024092</td>\n",
              "      <td>0.765148</td>\n",
              "      <td>-0.738253</td>\n",
              "      <td>-0.29857</td>\n",
              "      <td>1.097438</td>\n",
              "    </tr>\n",
              "    <tr>\n",
              "      <th>3</th>\n",
              "      <td>-1.765386</td>\n",
              "      <td>0.128393</td>\n",
              "      <td>0.040729</td>\n",
              "      <td>-0.655810</td>\n",
              "      <td>2.303010</td>\n",
              "      <td>-0.631498</td>\n",
              "      <td>0.607697</td>\n",
              "      <td>-0.069442</td>\n",
              "      <td>-0.12506</td>\n",
              "      <td>0.12506</td>\n",
              "      <td>...</td>\n",
              "      <td>-0.618851</td>\n",
              "      <td>-0.064269</td>\n",
              "      <td>-0.197375</td>\n",
              "      <td>-0.007262</td>\n",
              "      <td>-0.052942</td>\n",
              "      <td>-0.024092</td>\n",
              "      <td>0.765148</td>\n",
              "      <td>-0.738253</td>\n",
              "      <td>-0.29857</td>\n",
              "      <td>-0.911213</td>\n",
              "    </tr>\n",
              "    <tr>\n",
              "      <th>4</th>\n",
              "      <td>-0.671452</td>\n",
              "      <td>-0.055057</td>\n",
              "      <td>-0.013628</td>\n",
              "      <td>2.186827</td>\n",
              "      <td>-0.434214</td>\n",
              "      <td>-0.631498</td>\n",
              "      <td>-1.645558</td>\n",
              "      <td>-0.069442</td>\n",
              "      <td>-0.12506</td>\n",
              "      <td>0.12506</td>\n",
              "      <td>...</td>\n",
              "      <td>-0.618851</td>\n",
              "      <td>-0.064269</td>\n",
              "      <td>-0.197375</td>\n",
              "      <td>-0.007262</td>\n",
              "      <td>-0.052942</td>\n",
              "      <td>-0.024092</td>\n",
              "      <td>-1.306937</td>\n",
              "      <td>1.354549</td>\n",
              "      <td>-0.29857</td>\n",
              "      <td>-0.911213</td>\n",
              "    </tr>\n",
              "  </tbody>\n",
              "</table>\n",
              "<p>5 rows × 21 columns</p>\n",
              "</div>"
            ],
            "text/plain": [
              "   crime_rate_ranking      area  distance_from_nearest_stop    rating  \\\n",
              "0           -0.890239 -0.159886                    0.084609 -0.655810   \n",
              "1            0.860055 -0.114023                   -0.504859 -0.655810   \n",
              "2           -0.890239 -0.048505                    0.084609 -0.655810   \n",
              "3           -1.765386  0.128393                    0.040729 -0.655810   \n",
              "4           -0.671452 -0.055057                   -0.013628  2.186827   \n",
              "\n",
              "   marketSegment_CCR  marketSegment_OCR  propertyType_Apartment  \\\n",
              "0          -0.434214          -0.631498                0.607697   \n",
              "1           2.303010          -0.631498                0.607697   \n",
              "2          -0.434214          -0.631498                0.607697   \n",
              "3           2.303010          -0.631498                0.607697   \n",
              "4          -0.434214          -0.631498               -1.645558   \n",
              "\n",
              "   propertyType_Detached  typeOfArea_Land  typeOfArea_Strata  ...  \\\n",
              "0              -0.069442         -0.12506            0.12506  ...   \n",
              "1              -0.069442         -0.12506            0.12506  ...   \n",
              "2              -0.069442         -0.12506            0.12506  ...   \n",
              "3              -0.069442         -0.12506            0.12506  ...   \n",
              "4              -0.069442         -0.12506            0.12506  ...   \n",
              "\n",
              "   nearest_mrt_CLEMENTI MRT STATION (EW23)  \\\n",
              "0                                -0.618851   \n",
              "1                                -0.618851   \n",
              "2                                -0.618851   \n",
              "3                                -0.618851   \n",
              "4                                -0.618851   \n",
              "\n",
              "   nearest_mrt_ESPLANADE MRT STATION (CC3)  \\\n",
              "0                                -0.064269   \n",
              "1                                -0.064269   \n",
              "2                                -0.064269   \n",
              "3                                -0.064269   \n",
              "4                                -0.064269   \n",
              "\n",
              "   nearest_mrt_HARBOURFRONT MRT STATION (NE1 / CC29)  \\\n",
              "0                                          -0.197375   \n",
              "1                                          -0.197375   \n",
              "2                                          -0.197375   \n",
              "3                                          -0.197375   \n",
              "4                                          -0.197375   \n",
              "\n",
              "   nearest_mrt_LITTLE INDIA MRT STATION (NE7)  \\\n",
              "0                                   -0.007262   \n",
              "1                                   -0.007262   \n",
              "2                                   -0.007262   \n",
              "3                                   -0.007262   \n",
              "4                                   -0.007262   \n",
              "\n",
              "   nearest_mrt_MARINA BAY MRT STATION (TE20)  \\\n",
              "0                                  -0.052942   \n",
              "1                                  -0.052942   \n",
              "2                                  -0.052942   \n",
              "3                                  -0.052942   \n",
              "4                                  -0.052942   \n",
              "\n",
              "   nearest_mrt_MAXWELL MRT STATION (TE18)  typeOfSale_1  typeOfSale_3  \\\n",
              "0                               -0.024092      0.765148     -0.738253   \n",
              "1                               -0.024092      0.765148     -0.738253   \n",
              "2                               -0.024092      0.765148     -0.738253   \n",
              "3                               -0.024092      0.765148     -0.738253   \n",
              "4                               -0.024092     -1.306937      1.354549   \n",
              "\n",
              "   district_4  district_5  \n",
              "0    -0.29857    1.097438  \n",
              "1    -0.29857   -0.911213  \n",
              "2    -0.29857    1.097438  \n",
              "3    -0.29857   -0.911213  \n",
              "4    -0.29857   -0.911213  \n",
              "\n",
              "[5 rows x 21 columns]"
            ]
          },
          "execution_count": 7,
          "metadata": {},
          "output_type": "execute_result"
        }
      ],
      "source": [
        "# Transform from NumPy array to Pandas DataFrame\n",
        "columns_f_reg = ['crime_rate_ranking', 'area', 'distance_from_nearest_stop', 'rating', 'marketSegment_CCR', 'marketSegment_OCR', 'propertyType_Apartment', 'propertyType_Detached', 'typeOfArea_Land', 'typeOfArea_Strata', \n",
        "           'nearest_mrt_CITY HALL MRT STATION (EW13 / NS25)', 'nearest_mrt_CLEMENTI MRT STATION (EW23)', 'nearest_mrt_ESPLANADE MRT STATION (CC3)', 'nearest_mrt_HARBOURFRONT MRT STATION (NE1 / CC29)',\n",
        "           'nearest_mrt_LITTLE INDIA MRT STATION (NE7)', 'nearest_mrt_MARINA BAY MRT STATION (TE20)', 'nearest_mrt_MAXWELL MRT STATION (TE18)', 'typeOfSale_1', 'typeOfSale_3', 'district_4', 'district_5']\n",
        "X_train_f_reg = pd.DataFrame(X_train_f_reg_arr, columns=columns_f_reg)\n",
        "X_test_f_reg = pd.DataFrame(X_test_f_reg_arr, columns=columns_f_reg)\n",
        "X_train_f_reg.head()"
      ]
    },
    {
      "cell_type": "code",
      "execution_count": null,
      "metadata": {
        "colab": {
          "base_uri": "https://localhost:8080/",
          "height": 334
        },
        "id": "ynySZXrF_L80",
        "outputId": "1b005c9d-75be-4d0f-8625-7073780f1390"
      },
      "outputs": [
        {
          "data": {
            "text/html": [
              "<div>\n",
              "<style scoped>\n",
              "    .dataframe tbody tr th:only-of-type {\n",
              "        vertical-align: middle;\n",
              "    }\n",
              "\n",
              "    .dataframe tbody tr th {\n",
              "        vertical-align: top;\n",
              "    }\n",
              "\n",
              "    .dataframe thead th {\n",
              "        text-align: right;\n",
              "    }\n",
              "</style>\n",
              "<table border=\"1\" class=\"dataframe\">\n",
              "  <thead>\n",
              "    <tr style=\"text-align: right;\">\n",
              "      <th></th>\n",
              "      <th>crime_rate_ranking</th>\n",
              "      <th>area</th>\n",
              "      <th>contractMonth</th>\n",
              "      <th>distance_from_nearest_stop</th>\n",
              "      <th>nearest_mrt_walking_time</th>\n",
              "      <th>nearest_stop_num</th>\n",
              "      <th>nearest_taxi_stand_walking_time</th>\n",
              "      <th>ave_level</th>\n",
              "      <th>contractYear</th>\n",
              "      <th>rating</th>\n",
              "      <th>...</th>\n",
              "      <th>marketSegment_OCR</th>\n",
              "      <th>marketSegment_RCR</th>\n",
              "      <th>propertyType_Apartment</th>\n",
              "      <th>propertyType_Condominium</th>\n",
              "      <th>nearest_mrt_CLEMENTI MRT STATION (EW23)</th>\n",
              "      <th>nearest_mrt_PASIR PANJANG MRT STATION (CC26)</th>\n",
              "      <th>typeOfSale_1</th>\n",
              "      <th>typeOfSale_3</th>\n",
              "      <th>district_4</th>\n",
              "      <th>district_5</th>\n",
              "    </tr>\n",
              "  </thead>\n",
              "  <tbody>\n",
              "    <tr>\n",
              "      <th>0</th>\n",
              "      <td>-0.890239</td>\n",
              "      <td>-0.159886</td>\n",
              "      <td>-0.153247</td>\n",
              "      <td>0.084609</td>\n",
              "      <td>6.038920</td>\n",
              "      <td>0.430349</td>\n",
              "      <td>7.308957</td>\n",
              "      <td>-0.199105</td>\n",
              "      <td>0.593800</td>\n",
              "      <td>-0.655810</td>\n",
              "      <td>...</td>\n",
              "      <td>-0.631498</td>\n",
              "      <td>0.893133</td>\n",
              "      <td>0.607697</td>\n",
              "      <td>-0.573899</td>\n",
              "      <td>-0.618851</td>\n",
              "      <td>2.797811</td>\n",
              "      <td>0.765148</td>\n",
              "      <td>-0.738253</td>\n",
              "      <td>-0.29857</td>\n",
              "      <td>1.097438</td>\n",
              "    </tr>\n",
              "    <tr>\n",
              "      <th>1</th>\n",
              "      <td>0.860055</td>\n",
              "      <td>-0.114023</td>\n",
              "      <td>-1.029213</td>\n",
              "      <td>-0.504859</td>\n",
              "      <td>-0.004002</td>\n",
              "      <td>-1.262743</td>\n",
              "      <td>0.000661</td>\n",
              "      <td>-0.621856</td>\n",
              "      <td>0.593800</td>\n",
              "      <td>-0.655810</td>\n",
              "      <td>...</td>\n",
              "      <td>-0.631498</td>\n",
              "      <td>-1.119654</td>\n",
              "      <td>0.607697</td>\n",
              "      <td>-0.573899</td>\n",
              "      <td>-0.618851</td>\n",
              "      <td>-0.357422</td>\n",
              "      <td>0.765148</td>\n",
              "      <td>-0.738253</td>\n",
              "      <td>-0.29857</td>\n",
              "      <td>-0.911213</td>\n",
              "    </tr>\n",
              "    <tr>\n",
              "      <th>2</th>\n",
              "      <td>-0.890239</td>\n",
              "      <td>-0.048505</td>\n",
              "      <td>-1.613191</td>\n",
              "      <td>0.084609</td>\n",
              "      <td>-0.004002</td>\n",
              "      <td>0.430349</td>\n",
              "      <td>0.000661</td>\n",
              "      <td>0.646398</td>\n",
              "      <td>0.593800</td>\n",
              "      <td>-0.655810</td>\n",
              "      <td>...</td>\n",
              "      <td>-0.631498</td>\n",
              "      <td>0.893133</td>\n",
              "      <td>0.607697</td>\n",
              "      <td>-0.573899</td>\n",
              "      <td>-0.618851</td>\n",
              "      <td>2.797811</td>\n",
              "      <td>0.765148</td>\n",
              "      <td>-0.738253</td>\n",
              "      <td>-0.29857</td>\n",
              "      <td>1.097438</td>\n",
              "    </tr>\n",
              "    <tr>\n",
              "      <th>3</th>\n",
              "      <td>-1.765386</td>\n",
              "      <td>0.128393</td>\n",
              "      <td>-0.445236</td>\n",
              "      <td>0.040729</td>\n",
              "      <td>-0.004002</td>\n",
              "      <td>-1.053621</td>\n",
              "      <td>-2.880344</td>\n",
              "      <td>1.069150</td>\n",
              "      <td>-1.640994</td>\n",
              "      <td>-0.655810</td>\n",
              "      <td>...</td>\n",
              "      <td>-0.631498</td>\n",
              "      <td>-1.119654</td>\n",
              "      <td>0.607697</td>\n",
              "      <td>-0.573899</td>\n",
              "      <td>-0.618851</td>\n",
              "      <td>-0.357422</td>\n",
              "      <td>0.765148</td>\n",
              "      <td>-0.738253</td>\n",
              "      <td>-0.29857</td>\n",
              "      <td>-0.911213</td>\n",
              "    </tr>\n",
              "    <tr>\n",
              "      <th>4</th>\n",
              "      <td>-0.671452</td>\n",
              "      <td>-0.055057</td>\n",
              "      <td>-0.737225</td>\n",
              "      <td>-0.013628</td>\n",
              "      <td>-1.439647</td>\n",
              "      <td>-0.382335</td>\n",
              "      <td>0.000661</td>\n",
              "      <td>-0.199105</td>\n",
              "      <td>1.338731</td>\n",
              "      <td>2.186827</td>\n",
              "      <td>...</td>\n",
              "      <td>-0.631498</td>\n",
              "      <td>0.893133</td>\n",
              "      <td>-1.645558</td>\n",
              "      <td>1.742465</td>\n",
              "      <td>-0.618851</td>\n",
              "      <td>-0.357422</td>\n",
              "      <td>-1.306937</td>\n",
              "      <td>1.354549</td>\n",
              "      <td>-0.29857</td>\n",
              "      <td>-0.911213</td>\n",
              "    </tr>\n",
              "  </tbody>\n",
              "</table>\n",
              "<p>5 rows × 21 columns</p>\n",
              "</div>"
            ],
            "text/plain": [
              "   crime_rate_ranking      area  contractMonth  distance_from_nearest_stop  \\\n",
              "0           -0.890239 -0.159886      -0.153247                    0.084609   \n",
              "1            0.860055 -0.114023      -1.029213                   -0.504859   \n",
              "2           -0.890239 -0.048505      -1.613191                    0.084609   \n",
              "3           -1.765386  0.128393      -0.445236                    0.040729   \n",
              "4           -0.671452 -0.055057      -0.737225                   -0.013628   \n",
              "\n",
              "   nearest_mrt_walking_time  nearest_stop_num  \\\n",
              "0                  6.038920          0.430349   \n",
              "1                 -0.004002         -1.262743   \n",
              "2                 -0.004002          0.430349   \n",
              "3                 -0.004002         -1.053621   \n",
              "4                 -1.439647         -0.382335   \n",
              "\n",
              "   nearest_taxi_stand_walking_time  ave_level  contractYear    rating  ...  \\\n",
              "0                         7.308957  -0.199105      0.593800 -0.655810  ...   \n",
              "1                         0.000661  -0.621856      0.593800 -0.655810  ...   \n",
              "2                         0.000661   0.646398      0.593800 -0.655810  ...   \n",
              "3                        -2.880344   1.069150     -1.640994 -0.655810  ...   \n",
              "4                         0.000661  -0.199105      1.338731  2.186827  ...   \n",
              "\n",
              "   marketSegment_OCR  marketSegment_RCR  propertyType_Apartment  \\\n",
              "0          -0.631498           0.893133                0.607697   \n",
              "1          -0.631498          -1.119654                0.607697   \n",
              "2          -0.631498           0.893133                0.607697   \n",
              "3          -0.631498          -1.119654                0.607697   \n",
              "4          -0.631498           0.893133               -1.645558   \n",
              "\n",
              "   propertyType_Condominium  nearest_mrt_CLEMENTI MRT STATION (EW23)  \\\n",
              "0                 -0.573899                                -0.618851   \n",
              "1                 -0.573899                                -0.618851   \n",
              "2                 -0.573899                                -0.618851   \n",
              "3                 -0.573899                                -0.618851   \n",
              "4                  1.742465                                -0.618851   \n",
              "\n",
              "   nearest_mrt_PASIR PANJANG MRT STATION (CC26)  typeOfSale_1  typeOfSale_3  \\\n",
              "0                                      2.797811      0.765148     -0.738253   \n",
              "1                                     -0.357422      0.765148     -0.738253   \n",
              "2                                      2.797811      0.765148     -0.738253   \n",
              "3                                     -0.357422      0.765148     -0.738253   \n",
              "4                                     -0.357422     -1.306937      1.354549   \n",
              "\n",
              "   district_4  district_5  \n",
              "0    -0.29857    1.097438  \n",
              "1    -0.29857   -0.911213  \n",
              "2    -0.29857    1.097438  \n",
              "3    -0.29857   -0.911213  \n",
              "4    -0.29857   -0.911213  \n",
              "\n",
              "[5 rows x 21 columns]"
            ]
          },
          "execution_count": 8,
          "metadata": {},
          "output_type": "execute_result"
        }
      ],
      "source": [
        "# Transform from NumPy array to Pandas DataFrame\n",
        "columns_mi_reg = ['crime_rate_ranking', 'area', 'contractMonth', 'distance_from_nearest_stop', 'nearest_mrt_walking_time', 'nearest_stop_num', 'nearest_taxi_stand_walking_time', 'ave_level',\n",
        "           'contractYear', 'rating', 'marketSegment_CCR', 'marketSegment_OCR', 'marketSegment_RCR', 'propertyType_Apartment', 'propertyType_Condominium', 'nearest_mrt_CLEMENTI MRT STATION (EW23)',\n",
        "           'nearest_mrt_PASIR PANJANG MRT STATION (CC26)', 'typeOfSale_1', 'typeOfSale_3', 'district_4', 'district_5']\n",
        "X_train_mi_reg = pd.DataFrame(X_train_mi_reg_arr, columns=columns_mi_reg)\n",
        "X_test_mi_reg = pd.DataFrame(X_test_mi_reg_arr, columns=columns_mi_reg)\n",
        "X_train_mi_reg.head()"
      ]
    },
    {
      "cell_type": "markdown",
      "metadata": {
        "id": "jBmuj64YtKG7"
      },
      "source": [
        "### Train the XGB model on training data"
      ]
    },
    {
      "cell_type": "code",
      "execution_count": null,
      "metadata": {
        "id": "Egxu_dMAwxkm"
      },
      "outputs": [],
      "source": [
        "# Create XGBoost regressors\n",
        "regressor = xgb.XGBRegressor(objective='reg:squarederror', n_jobs=-1, seed=0)\n",
        "regressor_scaled = xgb.XGBRegressor(objective='reg:squarederror', n_jobs=-1, seed=0)\n",
        "regressor_f_reg = xgb.XGBRegressor(objective='reg:squarederror', n_jobs=-1, seed=0)\n",
        "regressor_mi_reg = regressor = xgb.XGBRegressor(objective='reg:squarederror', n_jobs=-1, seed=0)"
      ]
    },
    {
      "cell_type": "code",
      "execution_count": null,
      "metadata": {
        "colab": {
          "base_uri": "https://localhost:8080/"
        },
        "id": "q0G1SEvSqLJ9",
        "outputId": "40c71f56-4011-4ecc-8329-399b180ab707"
      },
      "outputs": [
        {
          "name": "stdout",
          "output_type": "stream",
          "text": [
            "Root Mean Squared Error: 108702.188578\n"
          ]
        }
      ],
      "source": [
        "# Using original training data\n",
        "regressor.fit(X_train, y_train)\n",
        "y_train_pred = regressor.predict(X_train)\n",
        "rmse = mean_squared_error(y_train, y_train_pred, squared=False)\n",
        "print(\"Root Mean Squared Error: %f\" % (rmse))"
      ]
    },
    {
      "cell_type": "code",
      "execution_count": null,
      "metadata": {
        "colab": {
          "base_uri": "https://localhost:8080/"
        },
        "id": "tgR7CXsPrx4l",
        "outputId": "3f87b438-ca17-45ef-8083-f95cdffb6eef"
      },
      "outputs": [
        {
          "name": "stdout",
          "output_type": "stream",
          "text": [
            "Root Mean Squared Error: 108702.188578\n"
          ]
        }
      ],
      "source": [
        "# Using scaled training data\n",
        "regressor_scaled.fit(X_train_scaled, y_train)\n",
        "y_train_scaled_pred = regressor_scaled.predict(X_train_scaled)\n",
        "rmse_scaled = mean_squared_error(y_train, y_train_scaled_pred, squared=False)\n",
        "print(\"Root Mean Squared Error: %f\" % (rmse_scaled))"
      ]
    },
    {
      "cell_type": "code",
      "execution_count": null,
      "metadata": {
        "colab": {
          "base_uri": "https://localhost:8080/"
        },
        "id": "GReW52VssHCO",
        "outputId": "846825e2-e025-441b-abb2-70e3bc00a3da"
      },
      "outputs": [
        {
          "name": "stdout",
          "output_type": "stream",
          "text": [
            "Root Mean Squared Error: 176880.661950\n"
          ]
        }
      ],
      "source": [
        "# Using F Regression training data\n",
        "regressor_f_reg.fit(X_train_f_reg, y_train)\n",
        "y_train_f_reg_pred = regressor_f_reg.predict(X_train_f_reg)\n",
        "rmse_f_reg = mean_squared_error(y_train, y_train_f_reg_pred, squared=False)\n",
        "print(\"Root Mean Squared Error: %f\" % (rmse_f_reg))"
      ]
    },
    {
      "cell_type": "code",
      "execution_count": null,
      "metadata": {
        "colab": {
          "base_uri": "https://localhost:8080/"
        },
        "id": "GoV9j772uVqK",
        "outputId": "b6005fb7-432d-481d-d4ce-264a45855309"
      },
      "outputs": [
        {
          "name": "stdout",
          "output_type": "stream",
          "text": [
            "Root Mean Squared Error: 109086.317097\n"
          ]
        }
      ],
      "source": [
        "# Using MI Regression training data\n",
        "regressor_mi_reg.fit(X_train_mi_reg, y_train)\n",
        "y_train_mi_reg_pred = regressor_mi_reg.predict(X_train_mi_reg)\n",
        "rmse_mi_reg = mean_squared_error(y_train, y_train_mi_reg_pred, squared=False)\n",
        "print(\"Root Mean Squared Error: %f\" % (rmse_mi_reg))"
      ]
    },
    {
      "cell_type": "code",
      "execution_count": null,
      "metadata": {
        "colab": {
          "base_uri": "https://localhost:8080/"
        },
        "id": "7jDniBk5uLNU",
        "outputId": "83965623-f8a0-4219-fc56-4e7b57fbc793"
      },
      "outputs": [
        {
          "name": "stdout",
          "output_type": "stream",
          "text": [
            "Root Mean Squared Error: 2854341.101172\n"
          ]
        }
      ],
      "source": [
        "y_test_mi_reg_pred = regressor_mi_reg.predict(X_test_mi_reg)\n",
        "rmse_test_mi_reg = mean_squared_error(y_test, y_test_mi_reg_pred, squared=False)\n",
        "print(\"Root Mean Squared Error: %f\" % (rmse_test_mi_reg))"
      ]
    },
    {
      "cell_type": "markdown",
      "metadata": {
        "id": "OZUFDQwIvgGC"
      },
      "source": [
        "### Hyperparameter Tuning"
      ]
    },
    {
      "cell_type": "code",
      "execution_count": null,
      "metadata": {
        "id": "uxlj4VUUw1lL"
      },
      "outputs": [],
      "source": [
        "# Create XGBoost regressors\n",
        "regressor = xgb.XGBRegressor(objective='reg:squarederror', n_jobs=-1, seed=0)\n",
        "regressor_scaled = xgb.XGBRegressor(objective='reg:squarederror', n_jobs=-1, seed=0)\n",
        "regressor_f_reg = xgb.XGBRegressor(objective='reg:squarederror', n_jobs=-1, seed=0)\n",
        "regressor_mi_reg = regressor = xgb.XGBRegressor(objective='reg:squarederror', n_jobs=-1, seed=0)"
      ]
    },
    {
      "cell_type": "code",
      "execution_count": null,
      "metadata": {
        "id": "CApnTCIowzwz"
      },
      "outputs": [],
      "source": [
        "# Define hyperparameters\n",
        "param_grid = {\n",
        "    'n_estimators': [50, 100, 200],\n",
        "    'learning_rate': [0.1, 0.5, 1],\n",
        "    'max_depth': [3, 7],\n",
        "    'min_child_weight': [1, 3, 5],\n",
        "    'gamma': [0, 0.1, 0.5],\n",
        "    'subsample': [0.7, 1],\n",
        "    'reg_lambda': [0.1, 1]\n",
        "}"
      ]
    },
    {
      "cell_type": "code",
      "execution_count": null,
      "metadata": {
        "colab": {
          "base_uri": "https://localhost:8080/"
        },
        "id": "y9RM0WxQw7Pc",
        "outputId": "86ce8d7b-8d22-4d31-a26a-d4896b6b2e1e"
      },
      "outputs": [
        {
          "name": "stdout",
          "output_type": "stream",
          "text": [
            "Fitting 5 folds for each of 648 candidates, totalling 3240 fits\n"
          ]
        },
        {
          "data": {
            "text/plain": [
              "GridSearchCV(cv=5,\n",
              "             estimator=XGBRegressor(base_score=None, booster=None,\n",
              "                                    callbacks=None, colsample_bylevel=None,\n",
              "                                    colsample_bynode=None,\n",
              "                                    colsample_bytree=None,\n",
              "                                    early_stopping_rounds=None,\n",
              "                                    enable_categorical=False, eval_metric=None,\n",
              "                                    feature_types=None, gamma=None, gpu_id=None,\n",
              "                                    grow_policy=None, importance_type=None,\n",
              "                                    interaction_constraints=None,\n",
              "                                    learning_rate=None, m...\n",
              "                                    max_depth=None, max_leaves=None,\n",
              "                                    min_child_weight=None, missing=nan,\n",
              "                                    monotone_constraints=None, n_estimators=100,\n",
              "                                    n_jobs=-1, num_parallel_tree=None,\n",
              "                                    predictor=None, random_state=None, ...),\n",
              "             n_jobs=-1,\n",
              "             param_grid={'gamma': [0, 0.1, 0.5], 'learning_rate': [0.1, 0.5, 1],\n",
              "                         'max_depth': [3, 7], 'min_child_weight': [1, 3, 5],\n",
              "                         'n_estimators': [50, 100, 200], 'reg_lambda': [0.1, 1],\n",
              "                         'subsample': [0.7, 1]},\n",
              "             verbose=2)"
            ]
          },
          "execution_count": 17,
          "metadata": {},
          "output_type": "execute_result"
        }
      ],
      "source": [
        "# Fit model on X_train_scaled and find the best combination of hyperparameters\n",
        "#cv = RepeatedStratifiedKFold(n_splits=10, n_repeats=3, random_state=1)\n",
        "grid_search_scaled = GridSearchCV(regressor_scaled, param_grid, cv=5, n_jobs=-1, verbose=2)\n",
        "grid_search_scaled.fit(X_train_scaled, y_train)"
      ]
    },
    {
      "cell_type": "code",
      "execution_count": null,
      "metadata": {
        "colab": {
          "base_uri": "https://localhost:8080/"
        },
        "id": "GpB9WyIOw_h2",
        "outputId": "eb83e2ad-d91e-44cb-92c8-d6fdfffe8561"
      },
      "outputs": [
        {
          "name": "stdout",
          "output_type": "stream",
          "text": [
            "Root Mean Squared Error: 118838.932665\n",
            "Root Mean Squared Error: 3150272.206219\n"
          ]
        }
      ],
      "source": [
        "# Evaluate model on training & test sets\n",
        "y_train_scaled_pred = grid_search_scaled.predict(X_train_scaled)\n",
        "rmse = mean_squared_error(y_train, y_train_scaled_pred, squared=False)\n",
        "print(\"Root Mean Squared Error: %f\" % (rmse))\n",
        "\n",
        "y_scaled_pred = grid_search_scaled.predict(X_test_scaled)\n",
        "rmse = mean_squared_error(y_test, y_scaled_pred, squared=False)\n",
        "print(\"Root Mean Squared Error: %f\" % (rmse))"
      ]
    },
    {
      "cell_type": "code",
      "execution_count": null,
      "metadata": {
        "colab": {
          "base_uri": "https://localhost:8080/"
        },
        "id": "CmPfzzAmxCi1",
        "outputId": "b18474b5-07a1-4f48-e75f-8c81b549f452"
      },
      "outputs": [
        {
          "name": "stdout",
          "output_type": "stream",
          "text": [
            "{'gamma': 0, 'learning_rate': 1, 'max_depth': 3, 'min_child_weight': 1, 'n_estimators': 200, 'reg_lambda': 1, 'subsample': 1}\n"
          ]
        }
      ],
      "source": [
        "# Print best model hyperparameters\n",
        "print(grid_search_scaled.best_params_)"
      ]
    },
    {
      "cell_type": "code",
      "execution_count": null,
      "metadata": {
        "colab": {
          "base_uri": "https://localhost:8080/"
        },
        "id": "ax9HqLxpxDM3",
        "outputId": "af99e04f-e43f-4e3f-e92b-cba2e5f84c61"
      },
      "outputs": [
        {
          "name": "stdout",
          "output_type": "stream",
          "text": [
            "0.8726228359465619\n"
          ]
        }
      ],
      "source": [
        "# Print model accuracy\n",
        "print(grid_search_scaled.best_score_)"
      ]
    },
    {
      "cell_type": "code",
      "execution_count": null,
      "metadata": {
        "colab": {
          "base_uri": "https://localhost:8080/",
          "height": 36
        },
        "id": "KqHlhxyXFccQ",
        "outputId": "b2d6c966-3bf0-4788-a173-caa7c8e7fd01"
      },
      "outputs": [
        {
          "data": {
            "text/plain": [
              "'\\nfig, ax = plt.subplots(figsize=(20, 10))\\nxgb.plot_tree(best_estimator, num_trees=0, ax=ax)\\nplt.show()\\n'"
            ]
          },
          "execution_count": 21,
          "metadata": {},
          "output_type": "execute_result"
        }
      ],
      "source": [
        "# Visualize the first decision tree produced by XGBoost\n",
        "'''\n",
        "fig, ax = plt.subplots(figsize=(20, 10))\n",
        "xgb.plot_tree(best_estimator, num_trees=0, ax=ax)\n",
        "plt.show()\n",
        "'''"
      ]
    },
    {
      "cell_type": "code",
      "execution_count": null,
      "metadata": {
        "colab": {
          "base_uri": "https://localhost:8080/",
          "height": 134
        },
        "id": "fvssFOAYxUex",
        "outputId": "ddaf56d2-33a5-4d8a-c68a-87851704645c"
      },
      "outputs": [
        {
          "name": "stdout",
          "output_type": "stream",
          "text": [
            "Fitting 5 folds for each of 648 candidates, totalling 3240 fits\n"
          ]
        },
        {
          "data": {
            "text/plain": [
              "GridSearchCV(cv=5,\n",
              "             estimator=XGBRegressor(base_score=None, booster=None,\n",
              "                                    callbacks=None, colsample_bylevel=None,\n",
              "                                    colsample_bynode=None,\n",
              "                                    colsample_bytree=None,\n",
              "                                    early_stopping_rounds=None,\n",
              "                                    enable_categorical=False, eval_metric=None,\n",
              "                                    feature_types=None, gamma=None, gpu_id=None,\n",
              "                                    grow_policy=None, importance_type=None,\n",
              "                                    interaction_constraints=None,\n",
              "                                    learning_rate=None, m...\n",
              "                                    max_depth=None, max_leaves=None,\n",
              "                                    min_child_weight=None, missing=nan,\n",
              "                                    monotone_constraints=None, n_estimators=100,\n",
              "                                    n_jobs=-1, num_parallel_tree=None,\n",
              "                                    predictor=None, random_state=None, ...),\n",
              "             n_jobs=-1,\n",
              "             param_grid={'gamma': [0, 0.1, 0.5], 'learning_rate': [0.1, 0.5, 1],\n",
              "                         'max_depth': [3, 7], 'min_child_weight': [1, 3, 5],\n",
              "                         'n_estimators': [50, 100, 200], 'reg_lambda': [0.1, 1],\n",
              "                         'subsample': [0.7, 1]},\n",
              "             verbose=2)"
            ]
          },
          "execution_count": 22,
          "metadata": {},
          "output_type": "execute_result"
        }
      ],
      "source": [
        "# Fit model on X_train_f_reg and find the best combination of hyperparameters\n",
        "#cv = RepeatedStratifiedKFold(n_splits=10, n_repeats=3, random_state=1)\n",
        "grid_search_f_reg = GridSearchCV(regressor_f_reg, param_grid, cv=5, n_jobs=-1, verbose=2)\n",
        "grid_search_f_reg.fit(X_train_f_reg, y_train)"
      ]
    },
    {
      "cell_type": "code",
      "execution_count": null,
      "metadata": {
        "colab": {
          "base_uri": "https://localhost:8080/"
        },
        "id": "OBtKSWUDOS7Z",
        "outputId": "515b331b-0367-431e-f300-42e005089d33"
      },
      "outputs": [
        {
          "name": "stdout",
          "output_type": "stream",
          "text": [
            "Root Mean Squared Error: 237205.686472\n",
            "Root Mean Squared Error: 1085479.797045\n"
          ]
        }
      ],
      "source": [
        "# Evaluate model on training & test sets\n",
        "y_train_f_reg_pred = grid_search_f_reg.predict(X_train_f_reg)\n",
        "rmse = mean_squared_error(y_train, y_train_f_reg_pred, squared=False)\n",
        "print(\"Root Mean Squared Error: %f\" % (rmse))\n",
        "\n",
        "y_f_reg_pred = grid_search_f_reg.predict(X_test_f_reg)\n",
        "rmse = mean_squared_error(y_test, y_f_reg_pred, squared=False)\n",
        "print(\"Root Mean Squared Error: %f\" % (rmse))"
      ]
    },
    {
      "cell_type": "code",
      "execution_count": null,
      "metadata": {
        "colab": {
          "base_uri": "https://localhost:8080/"
        },
        "id": "pBvzfJa4OS7i",
        "outputId": "0bf1f0c2-38e1-44e5-b55f-ad54dc98ba29"
      },
      "outputs": [
        {
          "name": "stdout",
          "output_type": "stream",
          "text": [
            "{'gamma': 0, 'learning_rate': 1, 'max_depth': 3, 'min_child_weight': 1, 'n_estimators': 200, 'reg_lambda': 1, 'subsample': 0.7}\n"
          ]
        }
      ],
      "source": [
        "# Print best model hyperparameters\n",
        "print(grid_search_f_reg.best_params_)"
      ]
    },
    {
      "cell_type": "code",
      "execution_count": null,
      "metadata": {
        "colab": {
          "base_uri": "https://localhost:8080/"
        },
        "id": "gSNtEtM9OS7j",
        "outputId": "7263454e-f540-4df2-dab4-665cb5a2742b"
      },
      "outputs": [
        {
          "name": "stdout",
          "output_type": "stream",
          "text": [
            "0.8816110691804264\n"
          ]
        }
      ],
      "source": [
        "# Print model accuracy\n",
        "print(grid_search_f_reg.best_score_)"
      ]
    },
    {
      "cell_type": "code",
      "execution_count": null,
      "metadata": {
        "colab": {
          "base_uri": "https://localhost:8080/",
          "height": 489
        },
        "id": "z-vA6HXrOS7j",
        "outputId": "7df507df-ecf4-4908-d487-447f9b60a971"
      },
      "outputs": [
        {
          "data": {
            "text/plain": [
              "<Figure size 5000x3000 with 0 Axes>"
            ]
          },
          "metadata": {},
          "output_type": "display_data"
        },
        {
          "data": {
            "image/png": "[encoded data removed]",
            "text/plain": [
              "<Figure size 640x480 with 1 Axes>"
            ]
          },
          "metadata": {},
          "output_type": "display_data"
        }
      ],
      "source": [
        "# Plot feature importances\n",
        "best_estimator = grid_search_f_reg.best_estimator_\n",
        "plt.figure(figsize=(50, 30))\n",
        "xgb.plot_importance(best_estimator)\n",
        "plt.show()"
      ]
    },
    {
      "cell_type": "code",
      "execution_count": null,
      "metadata": {
        "colab": {
          "base_uri": "https://localhost:8080/",
          "height": 134
        },
        "id": "uP3vPdEm0Yce",
        "outputId": "7745d9b9-18f1-4132-b55f-28715f0adb1f"
      },
      "outputs": [
        {
          "name": "stdout",
          "output_type": "stream",
          "text": [
            "Fitting 5 folds for each of 648 candidates, totalling 3240 fits\n"
          ]
        },
        {
          "data": {
            "text/plain": [
              "GridSearchCV(cv=5,\n",
              "             estimator=XGBRegressor(base_score=None, booster=None,\n",
              "                                    callbacks=None, colsample_bylevel=None,\n",
              "                                    colsample_bynode=None,\n",
              "                                    colsample_bytree=None,\n",
              "                                    early_stopping_rounds=None,\n",
              "                                    enable_categorical=False, eval_metric=None,\n",
              "                                    feature_types=None, gamma=None, gpu_id=None,\n",
              "                                    grow_policy=None, importance_type=None,\n",
              "                                    interaction_constraints=None,\n",
              "                                    learning_rate=None, m...\n",
              "                                    max_depth=None, max_leaves=None,\n",
              "                                    min_child_weight=None, missing=nan,\n",
              "                                    monotone_constraints=None, n_estimators=100,\n",
              "                                    n_jobs=-1, num_parallel_tree=None,\n",
              "                                    predictor=None, random_state=None, ...),\n",
              "             n_jobs=-1,\n",
              "             param_grid={'gamma': [0, 0.1, 0.5], 'learning_rate': [0.1, 0.5, 1],\n",
              "                         'max_depth': [3, 7], 'min_child_weight': [1, 3, 5],\n",
              "                         'n_estimators': [50, 100, 200], 'reg_lambda': [0.1, 1],\n",
              "                         'subsample': [0.7, 1]},\n",
              "             verbose=2)"
            ]
          },
          "execution_count": 27,
          "metadata": {},
          "output_type": "execute_result"
        }
      ],
      "source": [
        "# Fit model on X_train_mi_reg and find the best combination of hyperparameters\n",
        "#cv = RepeatedStratifiedKFold(n_splits=10, n_repeats=3, random_state=1)\n",
        "grid_search_mi_reg = GridSearchCV(regressor_mi_reg, param_grid, cv=5, n_jobs=-1, verbose=2)\n",
        "grid_search_mi_reg.fit(X_train_mi_reg, y_train)"
      ]
    },
    {
      "cell_type": "code",
      "execution_count": null,
      "metadata": {
        "colab": {
          "base_uri": "https://localhost:8080/"
        },
        "id": "jw6dG-2nO4FH",
        "outputId": "7f7422ea-b0cc-46f3-bf92-4e8c65eb5d44"
      },
      "outputs": [
        {
          "name": "stdout",
          "output_type": "stream",
          "text": [
            "Root Mean Squared Error: 74193.394558\n",
            "Root Mean Squared Error: 1948977.991260\n"
          ]
        }
      ],
      "source": [
        "# Evaluate model on training & test sets\n",
        "y_train_mi_reg_pred = grid_search_mi_reg.predict(X_train_mi_reg)\n",
        "rmse = mean_squared_error(y_train, y_train_mi_reg_pred, squared=False)\n",
        "print(\"Root Mean Squared Error: %f\" % (rmse))\n",
        "\n",
        "y_mi_reg_pred = grid_search_mi_reg.predict(X_test_mi_reg)\n",
        "rmse = mean_squared_error(y_test, y_mi_reg_pred, squared=False)\n",
        "print(\"Root Mean Squared Error: %f\" % (rmse))"
      ]
    },
    {
      "cell_type": "code",
      "execution_count": null,
      "metadata": {
        "colab": {
          "base_uri": "https://localhost:8080/"
        },
        "id": "IlPeF1JqO4FI",
        "outputId": "199c901c-2295-438e-c9b2-78649d10c9c5"
      },
      "outputs": [
        {
          "name": "stdout",
          "output_type": "stream",
          "text": [
            "{'gamma': 0, 'learning_rate': 0.5, 'max_depth': 7, 'min_child_weight': 3, 'n_estimators': 200, 'reg_lambda': 1, 'subsample': 0.7}\n"
          ]
        }
      ],
      "source": [
        "# Print best model hyperparameters\n",
        "print(grid_search_mi_reg.best_params_)"
      ]
    },
    {
      "cell_type": "code",
      "execution_count": null,
      "metadata": {
        "colab": {
          "base_uri": "https://localhost:8080/"
        },
        "id": "pHZLnzXZO4FJ",
        "outputId": "411e8a9f-4327-446d-d7c7-a93e5383bf61"
      },
      "outputs": [
        {
          "name": "stdout",
          "output_type": "stream",
          "text": [
            "0.8833198306020776\n"
          ]
        }
      ],
      "source": [
        "# Print model accuracy\n",
        "print(grid_search_mi_reg.best_score_)"
      ]
    },
    {
      "cell_type": "code",
      "execution_count": null,
      "metadata": {
        "colab": {
          "base_uri": "https://localhost:8080/",
          "height": 489
        },
        "id": "mFHwKWOCO4FJ",
        "outputId": "289bb20a-eb8d-41bb-cb5a-a5151ed09ce3"
      },
      "outputs": [
        {
          "data": {
            "text/plain": [
              "<Figure size 5000x3000 with 0 Axes>"
            ]
          },
          "metadata": {},
          "output_type": "display_data"
        },
        {
          "data": {
            "image/png": "[encoded data removed]",
            "text/plain": [
              "<Figure size 640x480 with 1 Axes>"
            ]
          },
          "metadata": {},
          "output_type": "display_data"
        }
      ],
      "source": [
        "# Plot feature importances\n",
        "best_estimator = grid_search_mi_reg.best_estimator_\n",
        "plt.figure(figsize=(50, 30))\n",
        "xgb.plot_importance(best_estimator)\n",
        "plt.show()"
      ]
    },
    {
      "cell_type": "markdown",
      "source": [
        "### Comparison of RMSE with Standard Deviation"
      ],
      "metadata": {
        "id": "KdhO0-kImOys"
      }
    },
    {
      "cell_type": "code",
      "source": [
        "print('Comparison of RMSE on Test Data with Standard Deviation:')\n",
        "print('Scaled Training Data Regressor: Percentage of error compared to SD:', 3150272.206219/y_test.std() * 100)\n",
        "print('SelectKBest F Regressor: Percentage of error compared to SD:', 1085479.797045/y_test.std() * 100)\n",
        "print('SelectKBest Mutual Info Regressor: Percentage of error compared to SD:', 1948977.991260/y_test.std() * 100)"
      ],
      "metadata": {
        "colab": {
          "base_uri": "https://localhost:8080/"
        },
        "id": "lzvX7n_VmWzh",
        "outputId": "665b77d0-f545-4094-e42f-2406a6fa07d8"
      },
      "execution_count": null,
      "outputs": [
        {
          "output_type": "stream",
          "name": "stdout",
          "text": [
            "Comparison of RMSE on Test Data with Standard Deviation:\n",
            "Scaled Training Data Regressor: Percentage of error compared to SD: price    59.714831\n",
            "dtype: float64\n",
            "SelectKBest F Regressor: Percentage of error compared to SD: price    20.575759\n",
            "dtype: float64\n",
            "SelectKBest Mutual Info Regressor: Percentage of error compared to SD: price    36.943757\n",
            "dtype: float64\n"
          ]
        }
      ]
    }
  ],
  "metadata": {
    "accelerator": "GPU",
    "colab": {
      "provenance": []
    },
    "gpuClass": "standard",
    "kernelspec": {
      "display_name": "Python 3 (ipykernel)",
      "language": "python",
      "name": "python3"
    },
    "language_info": {
      "codemirror_mode": {
        "name": "ipython",
        "version": 3
      },
      "file_extension": ".py",
      "mimetype": "text/x-python",
      "name": "python",
      "nbconvert_exporter": "python",
      "pygments_lexer": "ipython3",
      "version": "3.9.13"
    }
  },
  "nbformat": 4,
  "nbformat_minor": 0
}