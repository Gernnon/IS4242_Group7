{
  "cells": [
    {
      "cell_type": "code",
      "execution_count": null,
      "metadata": {
        "id": "Rt_JWW0WFS9u"
      },
      "outputs": [],
      "source": [
        "import pandas as pd\n",
        "import pickle as pkl\n",
        "import numpy as np\n",
        "from sklearn.preprocessing import StandardScaler\n",
        "from sklearn.preprocessing import MinMaxScaler\n",
        "from sklearn.neural_network import MLPRegressor\n",
        "from sklearn.metrics import mean_squared_error"
      ]
    },
    {
      "cell_type": "code",
      "execution_count": null,
      "metadata": {
        "id": "_pTOtgOiFWjo"
      },
      "outputs": [],
      "source": [
        "# import os\n",
        "# from google.colab import drive\n",
        "# drive.mount('/content/drive') # Added shortcut to drive\n",
        "# %cd \"/content/drive/My Drive/IS4242/notebooks/data\""
      ]
    },
    {
      "cell_type": "code",
      "execution_count": null,
      "metadata": {
        "id": "UNCcPcdVGAVh"
      },
      "outputs": [],
      "source": [
        "X_train = pd.read_csv('X_train.csv')\n",
        "X_test = pd.read_csv('X_test.csv')\n",
        "y_train = pd.read_csv('y_train.csv')\n",
        "y_test = pd.read_csv('y_test.csv')\n",
        "\n",
        "X_train = X_train.drop(columns=['Unnamed: 0'])\n",
        "X_test = X_test.drop(columns=['Unnamed: 0'])\n",
        "y_train = y_train.drop(columns=['Unnamed: 0'])\n",
        "y_test = y_test.drop(columns=['Unnamed: 0'])"
      ]
    },
    {
      "cell_type": "code",
      "execution_count": null,
      "metadata": {
        "id": "1DdbwonNGlc1",
        "outputId": "121d3322-04d5-4efa-ba2a-044eb3f398d4"
      },
      "outputs": [
        {
          "name": "stderr",
          "output_type": "stream",
          "text": [
            "C:\\Users\\admin\\anaconda3\\lib\\site-packages\\sklearn\\base.py:329: UserWarning: Trying to unpickle estimator StandardScaler from version 1.2.2 when using version 1.0.2. This might lead to breaking code or invalid results. Use at your own risk. For more info please refer to:\n",
            "https://scikit-learn.org/stable/modules/model_persistence.html#security-maintainability-limitations\n",
            "  warnings.warn(\n",
            "C:\\Users\\admin\\anaconda3\\lib\\site-packages\\sklearn\\base.py:329: UserWarning: Trying to unpickle estimator SelectKBest from version 1.2.2 when using version 1.0.2. This might lead to breaking code or invalid results. Use at your own risk. For more info please refer to:\n",
            "https://scikit-learn.org/stable/modules/model_persistence.html#security-maintainability-limitations\n",
            "  warnings.warn(\n"
          ]
        }
      ],
      "source": [
        "with open('scaler.pkl', 'rb') as f:\n",
        "    scaler = pkl.load(f)\n",
        "\n",
        "with open('selectkbest_f_regression.pkl', 'rb') as f:\n",
        "    selectkbest_f_regression = pkl.load(f)\n",
        "\n",
        "with open('selectkbest_mutual_info_regression.pkl', 'rb') as f:\n",
        "    selectkbest_mutual_info_regression = pkl.load(f)"
      ]
    },
    {
      "cell_type": "code",
      "execution_count": null,
      "metadata": {
        "id": "Yweq6WruGsPi"
      },
      "outputs": [],
      "source": [
        "# Scale\n",
        "X_train = scaler.transform(X_train)\n",
        "X_test = scaler.transform(X_test)\n",
        "\n",
        "# # MinMax Scaled data\n",
        "# mm_scaler = MinMaxScaler().fit(X_train)\n",
        "# X_train = mm_scaler.transform(X_train)\n",
        "# X_test = mm_scaler.transform(X_test)\n",
        "\n",
        "# SelectKBest F Regression\n",
        "X_train_f = selectkbest_f_regression.transform(X_train)\n",
        "X_test_f = selectkbest_f_regression.transform(X_test)\n",
        "\n",
        "# SelectKBest Mutual Info Regression\n",
        "X_train_MI = selectkbest_mutual_info_regression.transform(X_train)\n",
        "X_test_MI = selectkbest_mutual_info_regression.transform(X_test)"
      ]
    },
    {
      "cell_type": "code",
      "execution_count": null,
      "metadata": {
        "colab": {
          "base_uri": "https://localhost:8080/"
        },
        "id": "BQpDRx3VIttU",
        "outputId": "8f069f84-8dba-4d6c-b829-91cba46f4870"
      },
      "outputs": [
        {
          "name": "stderr",
          "output_type": "stream",
          "text": [
            "C:\\Users\\admin\\anaconda3\\lib\\site-packages\\sklearn\\neural_network\\_multilayer_perceptron.py:1599: DataConversionWarning: A column-vector y was passed when a 1d array was expected. Please change the shape of y to (n_samples, ), for example using ravel().\n",
            "  y = column_or_1d(y, warn=True)\n"
          ]
        },
        {
          "name": "stdout",
          "output_type": "stream",
          "text": [
            "Root Mean Squared Error on scaled training data:  3158141.4037107513\n"
          ]
        }
      ],
      "source": [
        "# Train MLPRegressor model on Scaled training data\n",
        "mlp_reg = MLPRegressor(hidden_layer_sizes=(128,64,32), activation=\"relu\" , random_state=0, max_iter=400).fit(X_train, y_train)\n",
        "y_pred = mlp_reg.predict(X_test)\n",
        "rmse_scaled = mean_squared_error(y_test, y_pred, squared=False)\n",
        "print('Root Mean Squared Error on scaled training data: ', rmse_scaled)"
      ]
    },
    {
      "cell_type": "code",
      "execution_count": null,
      "metadata": {
        "colab": {
          "base_uri": "https://localhost:8080/"
        },
        "id": "HJRntqcE-vYd",
        "outputId": "e23543fe-2235-4575-91d3-4b900e4fd82d"
      },
      "outputs": [
        {
          "name": "stderr",
          "output_type": "stream",
          "text": [
            "C:\\Users\\admin\\anaconda3\\lib\\site-packages\\sklearn\\neural_network\\_multilayer_perceptron.py:1599: DataConversionWarning: A column-vector y was passed when a 1d array was expected. Please change the shape of y to (n_samples, ), for example using ravel().\n",
            "  y = column_or_1d(y, warn=True)\n"
          ]
        },
        {
          "name": "stdout",
          "output_type": "stream",
          "text": [
            "Root Mean Squared Error on training data after F Regression:  3215463.26626019\n"
          ]
        }
      ],
      "source": [
        "# Train MLPRegressor model on Scaled training data after F Regression\n",
        "mlp_reg_f = MLPRegressor(hidden_layer_sizes=(128,64,32), activation=\"relu\" , random_state=0, max_iter=400).fit(X_train_f, y_train)\n",
        "y_pred_f = mlp_reg_f.predict(X_test_f)\n",
        "rmse_f = mean_squared_error(y_test, y_pred_f, squared=False)\n",
        "print('Root Mean Squared Error on training data after F Regression: ', rmse_f)"
      ]
    },
    {
      "cell_type": "code",
      "execution_count": null,
      "metadata": {
        "colab": {
          "base_uri": "https://localhost:8080/"
        },
        "id": "qVvV3w5k-_o3",
        "outputId": "d1d24d75-6ade-4339-dc5e-272d41981521"
      },
      "outputs": [
        {
          "name": "stderr",
          "output_type": "stream",
          "text": [
            "C:\\Users\\admin\\anaconda3\\lib\\site-packages\\sklearn\\neural_network\\_multilayer_perceptron.py:1599: DataConversionWarning: A column-vector y was passed when a 1d array was expected. Please change the shape of y to (n_samples, ), for example using ravel().\n",
            "  y = column_or_1d(y, warn=True)\n"
          ]
        },
        {
          "name": "stdout",
          "output_type": "stream",
          "text": [
            "Root Mean Squared Error on training data after Mutual Info Regression:  3138585.7843748564\n"
          ]
        }
      ],
      "source": [
        "# Train MLPRegressor model on Scaled training data after Mutual Info Regression\n",
        "mlp_reg_MI = MLPRegressor(hidden_layer_sizes=(128,64,32), activation=\"relu\" , random_state=0, max_iter=400).fit(X_train_MI, y_train)\n",
        "y_pred_MI = mlp_reg_MI.predict(X_test_MI)\n",
        "rmse_MI = mean_squared_error(y_test, y_pred_MI, squared=False)\n",
        "print('Root Mean Squared Error on training data after Mutual Info Regression: ', rmse_MI)"
      ]
    },
    {
      "cell_type": "code",
      "execution_count": null,
      "metadata": {
        "colab": {
          "base_uri": "https://localhost:8080/"
        },
        "id": "0Txmct-uLNMN",
        "outputId": "083459a2-c1bc-4c50-8bfb-7f8adc05cb09"
      },
      "outputs": [
        {
          "name": "stdout",
          "output_type": "stream",
          "text": [
            "Fitting 5 folds for each of 96 candidates, totalling 480 fits\n"
          ]
        },
        {
          "name": "stderr",
          "output_type": "stream",
          "text": [
            "C:\\Users\\admin\\anaconda3\\lib\\site-packages\\sklearn\\model_selection\\_search.py:969: UserWarning: One or more of the test scores are non-finite: [ 1.61933336e-002 -6.16839477e-001  1.81410127e-002 -6.16522193e-001\n",
            "  1.09663203e-002 -6.16207438e-001  1.21478718e-002 -6.16839283e-001\n",
            "  1.20775284e-002 -6.16521839e-001  2.11938671e-002 -6.16203453e-001\n",
            "  1.25510930e-002 -6.16529527e-001  2.32830001e-002 -6.15909511e-001\n",
            "  7.23067672e-003 -6.15299329e-001  2.32650482e-002 -6.16529361e-001\n",
            "  2.08872064e-002 -6.15904799e-001  2.52882282e-002 -6.15389775e-001\n",
            "  1.93449236e-002 -6.16838835e-001  1.45524411e-002 -6.16520752e-001\n",
            "  2.03122376e-002 -6.16202509e-001  8.35139510e-003 -6.16839027e-001\n",
            "  2.06212201e-002 -6.16522681e-001  1.03195845e-002 -6.16204429e-001\n",
            "  7.16385444e-003 -6.16529352e-001  1.75536071e-002 -6.15903088e-001\n",
            "  2.92389530e-002 -6.15690119e-001  2.08482534e-002 -6.16528763e-001\n",
            "  2.85160594e-002 -6.15902297e-001  2.80519746e-002 -6.15324178e-001\n",
            " -5.62799105e+125 -1.01683771e+000              nan -1.30501120e+000\n",
            "              nan -1.57896977e+000 -3.63378154e+184 -9.99127981e-001\n",
            "              nan -1.37267825e+000              nan -1.73819794e+000\n",
            "              nan -1.27925703e+000              nan -1.75245621e+000\n",
            "              nan -1.90795731e+000              nan -1.29792059e+000\n",
            "              nan -1.88256180e+000 -9.85671826e+070 -1.78884742e+000\n",
            "              nan -1.00159147e+000              nan -1.33354682e+000\n",
            "              nan -1.56790951e+000 -5.35225694e+140 -9.99176208e-001\n",
            "              nan -1.44569005e+000 -7.86828749e+190 -1.71545847e+000\n",
            "              nan -1.31458663e+000              nan -1.81598566e+000\n",
            "              nan -1.92223709e+000              nan -1.33201231e+000\n",
            "              nan -1.68604522e+000              nan -1.86614662e+000]\n",
            "  warnings.warn(\n",
            "C:\\Users\\admin\\anaconda3\\lib\\site-packages\\sklearn\\model_selection\\_search.py:978: RuntimeWarning: overflow encountered in square\n",
            "  (array - array_means[:, np.newaxis]) ** 2, axis=1, weights=weights\n",
            "C:\\Users\\admin\\anaconda3\\lib\\site-packages\\sklearn\\neural_network\\_multilayer_perceptron.py:1599: DataConversionWarning: A column-vector y was passed when a 1d array was expected. Please change the shape of y to (n_samples, ), for example using ravel().\n",
            "  y = column_or_1d(y, warn=True)\n"
          ]
        },
        {
          "name": "stdout",
          "output_type": "stream",
          "text": [
            "Best model hyperparameters:  {'activation': 'tanh', 'alpha': 0.05, 'hidden_layer_sizes': (256, 128, 64), 'learning_rate': 'constant', 'max_iter': 600, 'solver': 'sgd'}\n",
            "Best model accuracy:  0.029238952989894585\n"
          ]
        }
      ],
      "source": [
        "# Hyperparameter Tuning using Grid Search for Scaled data\n",
        "from sklearn.model_selection import GridSearchCV\n",
        "\n",
        "mlp_reg = MLPRegressor()\n",
        "\n",
        "param_grid = {\n",
        "    'hidden_layer_sizes': [(128,64,32), (256, 128, 64)],\n",
        "    'max_iter': [200, 400, 600],\n",
        "    'activation': ['tanh', 'relu'],\n",
        "    'solver': ['sgd', 'adam'],\n",
        "    'alpha': [0.0001, 0.05],\n",
        "    'learning_rate': ['constant','adaptive'],\n",
        "}\n",
        "\n",
        "mlp_grid = GridSearchCV(mlp_reg, param_grid, n_jobs= -1, cv=5, verbose=3)\n",
        "mlp_grid.fit(X_train, y_train)\n",
        "\n",
        "# Best model hyperparameters\n",
        "print('Best model hyperparameters: ', mlp_grid.best_params_)\n",
        "# Model accuracy of best model\n",
        "print('Best model accuracy: ', mlp_grid.best_score_)"
      ]
    },
    {
      "cell_type": "code",
      "execution_count": null,
      "metadata": {
        "id": "bQLatGJ2Iqrh"
      },
      "outputs": [],
      "source": [
        "# Feature Importance scores for MLPRegressor model on Scaled data\n"
      ]
    },
    {
      "cell_type": "code",
      "execution_count": null,
      "metadata": {
        "colab": {
          "base_uri": "https://localhost:8080/"
        },
        "id": "VsHVGsp2P__K",
        "outputId": "5cf75069-c802-4d10-8655-f98a4c14d26a"
      },
      "outputs": [
        {
          "name": "stdout",
          "output_type": "stream",
          "text": [
            "Fitting 5 folds for each of 96 candidates, totalling 480 fits\n"
          ]
        },
        {
          "name": "stderr",
          "output_type": "stream",
          "text": [
            "C:\\Users\\admin\\anaconda3\\lib\\site-packages\\sklearn\\model_selection\\_search.py:969: UserWarning: One or more of the test scores are non-finite: [ 0.06641776 -0.61684003  0.06759587 -0.61652203  0.02870001 -0.61620355\n",
            "  0.02157692 -0.61683934  0.04338086 -0.61652223  0.03290938 -0.61620315\n",
            "  0.05367436 -0.61652889  0.0445328  -0.61590429  0.06897503 -0.61527666\n",
            "  0.06490286 -0.61653003  0.05819868 -0.61590437  0.03958667 -0.61527674\n",
            "  0.01308827 -0.61683981  0.01936918 -0.61652073 -0.00602141 -0.61620286\n",
            "  0.04273437 -0.61683856  0.08260931 -0.61652089  0.0235392  -0.61620352\n",
            "  0.03820673 -0.61653034  0.01332533 -0.61590301  0.05444821 -0.61527696\n",
            "  0.03578746 -0.61653014  0.0261694  -0.61590387  0.02428969 -0.61527669\n",
            "         nan -0.93887081         nan -0.9418617          nan -0.93115769\n",
            "         nan -0.90733335         nan -0.93909458         nan -0.95332131\n",
            "         nan -0.93845248         nan -0.95220398         nan -0.93951413\n",
            "         nan -0.92313838         nan -0.92279403         nan -0.90649561\n",
            "         nan -0.92749434         nan -0.9448944          nan -0.91483749\n",
            "         nan -0.95223227         nan -0.9431185          nan -0.95342024\n",
            "         nan -0.93952268         nan -0.9517376          nan -0.94262197\n",
            "         nan -0.93116806         nan -0.92916913         nan -0.93490502]\n",
            "  warnings.warn(\n",
            "C:\\Users\\admin\\anaconda3\\lib\\site-packages\\sklearn\\neural_network\\_multilayer_perceptron.py:1599: DataConversionWarning: A column-vector y was passed when a 1d array was expected. Please change the shape of y to (n_samples, ), for example using ravel().\n",
            "  y = column_or_1d(y, warn=True)\n"
          ]
        },
        {
          "name": "stdout",
          "output_type": "stream",
          "text": [
            "Best model hyperparameters:  {'activation': 'tanh', 'alpha': 0.05, 'hidden_layer_sizes': (128, 64, 32), 'learning_rate': 'adaptive', 'max_iter': 400, 'solver': 'sgd'}\n",
            "Best model accuracy:  0.08260931183673392\n"
          ]
        }
      ],
      "source": [
        "# Hyperparameter Tuning using Grid Search for training data after F Regression\n",
        "from sklearn.model_selection import GridSearchCV\n",
        "\n",
        "mlp_reg_f = MLPRegressor()\n",
        "\n",
        "param_grid = {\n",
        "    'hidden_layer_sizes': [(128,64,32), (256, 128, 64)],\n",
        "    'max_iter': [200, 400, 600],\n",
        "    'activation': ['tanh', 'relu'],\n",
        "    'solver': ['sgd', 'adam'],\n",
        "    'alpha': [0.0001, 0.05],\n",
        "    'learning_rate': ['constant','adaptive'],\n",
        "}\n",
        "\n",
        "mlp_grid_f = GridSearchCV(mlp_reg_f, param_grid, n_jobs= -1, cv=5, verbose=3)\n",
        "mlp_grid_f.fit(X_train_f, y_train)\n",
        "\n",
        "# Best model hyperparameters\n",
        "print('Best model hyperparameters: ', mlp_grid_f.best_params_)\n",
        "# Model accuracy of best model\n",
        "print('Best model accuracy: ', mlp_grid_f.best_score_)"
      ]
    },
    {
      "cell_type": "code",
      "execution_count": null,
      "metadata": {
        "id": "Bo4yQcll_tdD",
        "outputId": "310afc07-1e7b-4cf3-c85e-4c42b816f91b"
      },
      "outputs": [
        {
          "name": "stdout",
          "output_type": "stream",
          "text": [
            "Fitting 5 folds for each of 96 candidates, totalling 480 fits\n"
          ]
        },
        {
          "name": "stderr",
          "output_type": "stream",
          "text": [
            "C:\\Users\\admin\\anaconda3\\lib\\site-packages\\sklearn\\model_selection\\_search.py:969: UserWarning: One or more of the test scores are non-finite: [ 9.01230109e-03 -6.16838842e-01 -1.50168577e-02 -6.16520598e-01\n",
            "  2.39203494e-02 -6.16203349e-01  2.73563312e-02 -6.16838961e-01\n",
            "  2.13562445e-02 -6.16521997e-01  1.33859267e-02 -6.16203136e-01\n",
            "  3.06893441e-02 -6.16528288e-01 -3.41388113e-03 -6.15902772e-01\n",
            "  9.83248688e-05 -6.15276596e-01  1.02451538e-02 -6.16528502e-01\n",
            "  1.56546460e-02 -6.15902627e-01  9.62596555e-03 -6.15276851e-01\n",
            "  1.48542350e-02 -6.16839342e-01  1.62759093e-02 -6.16521437e-01\n",
            "  4.17052953e-03 -6.16203667e-01  1.02333546e-02 -6.16838693e-01\n",
            "  3.56573205e-03 -6.16521111e-01  1.87491282e-03 -6.16203629e-01\n",
            "  1.17031369e-03 -6.16528380e-01  8.92093916e-03 -6.15902251e-01\n",
            " -1.74603469e-04 -6.15277017e-01  8.98204310e-03 -6.16528907e-01\n",
            "  6.66318509e-03 -6.15903211e-01  1.73434985e-03 -6.15277213e-01\n",
            "             nan -9.15967084e-01             nan -9.33816994e-01\n",
            "             nan -9.12519595e-01             nan -9.10034116e-01\n",
            "             nan -9.45450467e-01             nan -8.97688398e-01\n",
            "             nan -9.06451040e-01             nan -9.05006801e-01\n",
            "             nan -9.17711975e-01             nan -9.18497623e-01\n",
            "             nan -9.07175307e-01             nan -8.92929281e-01\n",
            "             nan -9.10885513e-01             nan -9.15295252e-01\n",
            "             nan -9.03744520e-01             nan -9.11017567e-01\n",
            "             nan -9.43628411e-01             nan -9.20912180e-01\n",
            "             nan -9.22672068e-01             nan -9.07222921e-01\n",
            "             nan -9.09844306e-01             nan -9.18375437e-01\n",
            "             nan -9.22179805e-01             nan -9.17525562e-01]\n",
            "  warnings.warn(\n",
            "C:\\Users\\admin\\anaconda3\\lib\\site-packages\\sklearn\\neural_network\\_multilayer_perceptron.py:1599: DataConversionWarning: A column-vector y was passed when a 1d array was expected. Please change the shape of y to (n_samples, ), for example using ravel().\n",
            "  y = column_or_1d(y, warn=True)\n"
          ]
        },
        {
          "name": "stdout",
          "output_type": "stream",
          "text": [
            "Best model hyperparameters:  {'activation': 'tanh', 'alpha': 0.0001, 'hidden_layer_sizes': (256, 128, 64), 'learning_rate': 'constant', 'max_iter': 200, 'solver': 'sgd'}\n",
            "Best model hyperparameters:  0.03068934414760698\n"
          ]
        }
      ],
      "source": [
        "# Hyperparameter Tuning using Grid Search for training data after Mutual Info Regression\n",
        "from sklearn.model_selection import GridSearchCV\n",
        "\n",
        "mlp_reg_MI = MLPRegressor()\n",
        "\n",
        "param_grid = {\n",
        "    'hidden_layer_sizes': [(128,64,32), (256, 128, 64)],\n",
        "    'max_iter': [200, 400, 600],\n",
        "    'activation': ['tanh', 'relu'],\n",
        "    'solver': ['sgd', 'adam'],\n",
        "    'alpha': [0.0001, 0.05],\n",
        "    'learning_rate': ['constant','adaptive'],\n",
        "}\n",
        "\n",
        "mlp_grid_MI = GridSearchCV(mlp_reg_MI, param_grid, n_jobs= -1, cv=5, verbose=3)\n",
        "mlp_grid_MI.fit(X_train_MI, y_train)\n",
        "\n",
        "# Best model hyperparameters\n",
        "print('Best model hyperparameters: ', mlp_grid_MI.best_params_)\n",
        "# Model accuracy of best model\n",
        "print('Best model hyperparameters: ', mlp_grid_MI.best_score_)"
      ]
    }
  ],
  "metadata": {
    "accelerator": "GPU",
    "colab": {
      "provenance": []
    },
    "gpuClass": "standard",
    "kernelspec": {
      "display_name": "Python 3 (ipykernel)",
      "language": "python",
      "name": "python3"
    },
    "language_info": {
      "codemirror_mode": {
        "name": "ipython",
        "version": 3
      },
      "file_extension": ".py",
      "mimetype": "text/x-python",
      "name": "python",
      "nbconvert_exporter": "python",
      "pygments_lexer": "ipython3",
      "version": "3.9.13"
    }
  },
  "nbformat": 4,
  "nbformat_minor": 0
}